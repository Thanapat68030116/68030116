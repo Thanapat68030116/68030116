{
 "cells": [
  {
   "cell_type": "code",
   "execution_count": 16,
   "id": "4f119939",
   "metadata": {
    "vscode": {
     "languageId": "polyglot-notebook"
    }
   },
   "outputs": [
    {
     "name": "stdout",
     "output_type": "stream",
     "text": [
      "68030116\n",
      "id = 68030116, name = John smite\n",
      "id = 0635221, name = jack sow\n"
     ]
    }
   ],
   "source": [
    "class Person\n",
    "{\n",
    "    protected string id;\n",
    "    protected string firstname;\n",
    "    protected string lastname;\n",
    "    public void ShowInfo()\n",
    "    {\n",
    "        Console.WriteLine($\"id = {id}, name = {firstname + \" \" + lastname}\");\n",
    "    }\n",
    "    public string Id\n",
    "    {\n",
    "        get => id;\n",
    "        set => id = value;\n",
    "    }\n",
    "\n",
    "    public string Fullname\n",
    "    {\n",
    "        get => firstname + \" \" + lastname;\n",
    "        set\n",
    "        {\n",
    "            var spits = value.Split(' ');\n",
    "            firstname = spits[0];\n",
    "            lastname = spits[1];\n",
    "        }\n",
    "    }\n",
    "}\n",
    "class Student : Person\n",
    "{\n",
    "    \n",
    "\n",
    "}\n",
    "class Teacher : Person\n",
    "{\n",
    "    public new string Fullname   // ใส่ keyword new\n",
    "    {\n",
    "        get => lastname + \" \" + firstname;\n",
    "        set\n",
    "        {\n",
    "            var spits = value.Split(' ');\n",
    "            lastname = spits[0];\n",
    "            firstname = spits[1];\n",
    "        }\n",
    "    }\n",
    "}\n",
    "var s = new Student();\n",
    "s.Id = \"68030116\";\n",
    "s.Fullname = \"John smite\";\n",
    "\n",
    "Console.WriteLine(s.Id);\n",
    "s.ShowInfo();\n",
    "\n",
    "var t = new Teacher();\n",
    "t.Id = \"0635221\";\n",
    "t.Fullname = \"sow jack \";\n",
    "t.ShowInfo()"
   ]
  }
 ],
 "metadata": {
  "kernelspec": {
   "display_name": ".NET (C#)",
   "language": "C#",
   "name": ".net-csharp"
  },
  "language_info": {
   "name": "python"
  },
  "polyglot_notebook": {
   "kernelInfo": {
    "defaultKernelName": "csharp",
    "items": [
     {
      "aliases": [],
      "name": "csharp"
     }
    ]
   }
  }
 },
 "nbformat": 4,
 "nbformat_minor": 5
}
