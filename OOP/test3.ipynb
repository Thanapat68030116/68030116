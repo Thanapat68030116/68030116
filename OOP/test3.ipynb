{
 "cells": [
  {
   "cell_type": "code",
   "execution_count": 12,
   "id": "44fe88e1",
   "metadata": {
    "vscode": {
     "languageId": "polyglot-notebook"
    }
   },
   "outputs": [
    {
     "name": "stdout",
     "output_type": "stream",
     "text": [
      "Calculating by shape class\n",
      "area = 0\n",
      "Calculating by shape class\n",
      "area = 0\n",
      "Calculating by shape class\n",
      "area = 0\n",
      "Calculating by shape class\n",
      "area = 0\n",
      "Calculating by shape class\n",
      "area = 0\n",
      "Calculating by shape class\n",
      "area = 0\n",
      "Calculating by shape class\n",
      "area = 0\n",
      "Calculating by shape class\n",
      "area = 0\n"
     ]
    }
   ],
   "source": [
    "class Shape // abstract\n",
    "{\n",
    "    public double Area { get; }\n",
    "    public virtual double GetArea()\n",
    "    {\n",
    "        Console.WriteLine(\"Calculating by shape class\");\n",
    "        return 0.0;\n",
    "    }\n",
    "}\n",
    "class Triangle : Shape\n",
    "{\n",
    "    public double Base { get; set;}\n",
    "    public double Height { get; set; }\n",
    "    public virtual double GetArea()\n",
    "    {\n",
    "        Console.WriteLine(\"Calculating by triangle class\");\n",
    "        return Base * Height / 2;\n",
    "    }\n",
    "}\n",
    "class Square : Shape\n",
    "{\n",
    "   public double Width { get; set; }\n",
    "   public virtual double GetArea()\n",
    "   {\n",
    "        Console.WriteLine(\"Calculating by square class\");\n",
    "        return Width * Width;\n",
    "   }\n",
    "}\n",
    "\n",
    "//Shape t = new Triangle(){Base = 10.0, Height = 10.0};\n",
    "//Shape s = new Square(){Width = 10.0 };\n",
    "\n",
    "//Console.WriteLine($\"triangle area = {t.GetArea()}\");\n",
    "//Console.WriteLine($\"triangle area = {t.GetArea()}\");\n",
    "\n",
    "\n",
    "Shape[] shapes = {\n",
    "                new Triangle(){Base = 10.0, Height = 20.0},\n",
    "                new Triangle(){Base = 20.0, Height = 20.0},\n",
    "                new Triangle(){Base = 30.0, Height = 20.0},\n",
    "                new Triangle(){Base = 40.0, Height = 20.0},\n",
    "                new Square(){Width = 10.0 },\n",
    "                new Square(){Width = 20.0 },\n",
    "                new Square(){Width = 30.0 },\n",
    "                new Square(){Width = 40.0 },\n",
    "                };\n",
    "\n",
    "foreach (var s in shapes)\n",
    "{\n",
    "    Console.WriteLine($\"area = {s.GetArea()}\");\n",
    "};"
   ]
  }
 ],
 "metadata": {
  "kernelspec": {
   "display_name": ".NET (C#)",
   "language": "C#",
   "name": ".net-csharp"
  },
  "language_info": {
   "name": "python"
  },
  "polyglot_notebook": {
   "kernelInfo": {
    "defaultKernelName": "csharp",
    "items": [
     {
      "aliases": [],
      "name": "csharp"
     }
    ]
   }
  }
 },
 "nbformat": 4,
 "nbformat_minor": 5
}
