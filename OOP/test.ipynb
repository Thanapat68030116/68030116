{
 "cells": [
  {
   "cell_type": "code",
   "execution_count": 20,
   "id": "e8c2c130",
   "metadata": {
    "vscode": {
     "languageId": "polyglot-notebook"
    }
   },
   "outputs": [
    {
     "name": "stdout",
     "output_type": "stream",
     "text": [
      "p1 = 123 John Doe 1/1/1990\n",
      "p1 = 123 , John Doe , 1/1/1990\n",
      "123\n",
      "John Doe\n",
      "35\n"
     ]
    }
   ],
   "source": [
    "using System;\n",
    "\n",
    "public class Person // define class name\n",
    "{\n",
    "    // fields\n",
    "    private string id;\n",
    "    private string name;\n",
    "    private DateOnly birthDate;\n",
    "\n",
    "    // properties\n",
    "    public string Id\n",
    "    {\n",
    "        get { return id; }\n",
    "        set { id = value; }\n",
    "    }\n",
    "\n",
    "    public string Name\n",
    "    {\n",
    "        get { return name; }\n",
    "        set\n",
    "        {\n",
    "            if (value.Contains(\" \"))\n",
    "            {\n",
    "                name = value;\n",
    "            }\n",
    "            else\n",
    "            {\n",
    "                Console.WriteLine(\"Name must contain a space.\");\n",
    "            }\n",
    "        }\n",
    "    }\n",
    "\n",
    "    public DateOnly BirthDate\n",
    "    {\n",
    "        get { return birthDate; }\n",
    "        set { birthDate = value; }\n",
    "    }\n",
    "\n",
    "    public void TellName()\n",
    "    {\n",
    "        Console.WriteLine(name);\n",
    "    }\n",
    "\n",
    "    public void TellId()\n",
    "    {\n",
    "        Console.WriteLine(id);\n",
    "    }\n",
    "\n",
    "    public void TellAge()\n",
    "    {\n",
    "        var today = DateOnly.FromDateTime(DateTime.Today);\n",
    "        int age = today.Year - birthDate.Year;\n",
    "        if (today < birthDate.AddYears(age)) age--;\n",
    "        Console.WriteLine(age);\n",
    "    }\n",
    "}\n",
    "        Person p1 = new Person();\n",
    "        p1.Id = \"123\"; \n",
    "        p1.Name = \"John Doe\";\n",
    "        p1.BirthDate = new DateOnly(1990, 1, 1);\n",
    "\n",
    "        Console.WriteLine(\"p1 = {0} {1} {2}\", p1.Id, p1.Name, p1.BirthDate);\n",
    "        Console.WriteLine($\"p1 = {p1.Id} , {p1.Name} , {p1.BirthDate}\");\n",
    "\n",
    "        // optional\n",
    "        p1.TellId();\n",
    "        p1.TellName();\n",
    "        p1.TellAge();\n",
    "\n",
    "\n"
   ]
  }
 ],
 "metadata": {
  "kernelspec": {
   "display_name": ".NET (C#)",
   "language": "C#",
   "name": ".net-csharp"
  },
  "language_info": {
   "name": "python"
  },
  "polyglot_notebook": {
   "kernelInfo": {
    "defaultKernelName": "csharp",
    "items": [
     {
      "aliases": [],
      "name": "csharp"
     }
    ]
   }
  }
 },
 "nbformat": 4,
 "nbformat_minor": 5
}
