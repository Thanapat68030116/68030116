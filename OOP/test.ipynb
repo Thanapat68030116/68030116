{
 "cells": [
  {
   "cell_type": "code",
   "execution_count": null,
   "id": "e8c2c130",
   "metadata": {
    "vscode": {
     "languageId": "polyglot-notebook"
    }
   },
   "outputs": [],
   "source": [
    "class Person    // defind class name\n",
    "{\n",
    "    public string id;\n",
    "    public string name;\n",
    "    public DateOnly birthDate;\n",
    "    public void TellName()\n",
    "    {\n",
    "        Console.WriteLine(name);\n",
    "    }\n",
    "    public void Tellid()\n",
    "    {\n",
    "        Console.WriteLine(id);\n",
    "    }\n",
    "    public void TellAge()\n",
    "    {\n",
    "        \n",
    "    }\n",
    "}\n",
    "\n",
    "Person p1 = new Person();\n",
    "p1.id = \"11100326992\";\n",
    "p1.name = \"John Doe\";\n",
    "p1.birthDate = new DateOnly(2000, 5, 15);\n",
    "p1.TellName();"
   ]
  },
  {
   "cell_type": "code",
   "execution_count": null,
   "id": "cef87ad1",
   "metadata": {
    "vscode": {
     "languageId": "polyglot-notebook"
    }
   },
   "outputs": [],
   "source": []
  }
 ],
 "metadata": {
  "kernelspec": {
   "display_name": ".NET (C#)",
   "language": "C#",
   "name": ".net-csharp"
  },
  "language_info": {
   "name": "python"
  },
  "polyglot_notebook": {
   "kernelInfo": {
    "defaultKernelName": "csharp",
    "items": [
     {
      "aliases": [],
      "name": "csharp"
     }
    ]
   }
  }
 },
 "nbformat": 4,
 "nbformat_minor": 5
}
